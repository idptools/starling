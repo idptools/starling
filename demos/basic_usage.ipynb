{
 "cells": [
  {
   "cell_type": "markdown",
   "id": "3f2d1d94",
   "metadata": {},
   "source": [
    "# Distance Map Generation with STARLING\n",
    "\n",
    "This notebook will cover the basic functionality in STARLING, specifically distance map generation and various things you can calculate from the Ensemble object.. \n",
    "**Before starting**, install STARLING locally. See https://github.com/idptools/starling/ for more information\n",
    "\n",
    "- This notebook will cover the following:\n",
    "    1. Generating distance maps\n",
    "    2. Specifying the number of steps and conformations\n",
    "    3. Changing ionic strength \n",
    "    4. Using the ``Ensemble`` object\n",
    "    5. Saving .starling files and trajectories\n",
    "\n",
    "***Note***: STARLING can only generate ensembles of sequences up to 380 residues!"
   ]
  },
  {
   "cell_type": "code",
   "execution_count": null,
   "id": "50820239",
   "metadata": {},
   "outputs": [],
   "source": [
    "import numpy as np\n",
    "import matplotlib.pyplot as plt\n",
    "import starling\n",
    "\n",
    "#NOTE: if this is the first time you are running STARLING, it will download the model for you!\n",
    "# this can take a few minutes depending on your internet speed."
   ]
  },
  {
   "cell_type": "code",
   "execution_count": null,
   "id": "059e34e7",
   "metadata": {},
   "outputs": [],
   "source": [
    "# first we are going to set the sequence we want to analyze.\n",
    "# we are going to analyze the N-terminal IDR of Homo sapiens CTCF, Uniprot ID 49711\n",
    "ctcf='MEGDAVEAIVEESETFIKGKERKTYQRRREGGQEEDACHLPQNQTDGGEVVQDVNSSVQMVMMEQLDPTLLQMKTEVMEGTVAPEAEAAVDDTQIITLQVVNMEEQPINIGELQLVQVPVPVTVPVATTSVEELQGAYENEVSKEGLAESEPMICHTLPLPEGFQVVKVGANGEVETLEQGELPPQEDPSWQKDPDYQPPAKKTKKTKKSKLRYTEEGKDVDVSVYDFEEEQQEGLLSEVNAEKVVGNMKPPKPTKIKKKGVKKTFQCELCSYTCPRRSNLDRHMKSHTDERPHKCHLCGRAFRTVTLLRNHLNTHTGTRPHKCPDCDMAFVTSGELVRHRRYKHTHEKPFKCSMCDYASVEVSKLKRHIRSHTGERPFQCSLCSYASRDTYKLKRHMRTHSGEKPYECYICHARFTQSGTMKMHILQKHTENVAKFHCPHCDTVIARKSDLGVHLRKQHSYIEQGKKCRYCDAVFHERYALIQHQKSHKNEKRFKCDQCDYACRQERHMIMHKRTHTGEKPYACSHCDKTFRQKQLLDMHFKRYHDPNFVPAAFVCSKCGKTFTRRNTMARHADNCAGPDGVEGENGGETKKSKRGRKRKMRSKKEDSSDSENAEPDLDDNEDEEEPAVEIEPEPEPQPVTPAPPPAKKRRGRPPGRTNQPKQNQPTAIIQVEDQNTGAIENIIVEVKKEPDAEPAEGEEEEAQPAATDAPNGDLTPEMILSMMDR'\n",
    "# we used metapredict V3 to define the region that is the IDR of CTCF\n",
    "ctcf_idr = ctcf[:262]"
   ]
  },
  {
   "cell_type": "code",
   "execution_count": null,
   "id": "8b361bc7",
   "metadata": {},
   "outputs": [],
   "source": [
    "# now we are going to generate distance maps for the CTCF IDR\n",
    "# NOTE: By default STARLING will return a dictionary. If you input a string, the\n",
    "# dictionary key is 'sequence_1'. Alternatively, we can set return_single_ensemble=True.\n",
    "ctcf_ensemble = starling.generate(ctcf_idr, return_single_ensemble=True)"
   ]
  },
  {
   "cell_type": "markdown",
   "id": "09a76bbb",
   "metadata": {},
   "source": [
    "### Changing the number of steps and conformations"
   ]
  },
  {
   "cell_type": "code",
   "execution_count": null,
   "id": "3835548f",
   "metadata": {},
   "outputs": [],
   "source": [
    "# Note, you can change the number of steps and conformations. \n",
    "# if you do fewer steps or conformations, it will be faster but less accurate.\n",
    "ctcf_fewer_steps_conformations = starling.generate(ctcf_idr, steps=10, conformations=100, return_single_ensemble=True)\n"
   ]
  },
  {
   "cell_type": "markdown",
   "id": "50c85b5e",
   "metadata": {},
   "source": [
    "### Changing the ionic strength"
   ]
  },
  {
   "cell_type": "code",
   "execution_count": null,
   "id": "ee6641bd",
   "metadata": {},
   "outputs": [],
   "source": [
    "# 20 mM ionic strength is considered low, 150 mM is physiological, and 300 mM is high.\n",
    "ctcf_low_ionic_strength = starling.generate(ctcf_idr, salt=20, return_single_ensemble=True)\n",
    "ctcf_high_ionic_strength = starling.generate(ctcf_idr, salt=300, return_single_ensemble=True)"
   ]
  },
  {
   "cell_type": "markdown",
   "id": "f76d0bbb",
   "metadata": {},
   "source": [
    "### Visualizing distance maps"
   ]
  },
  {
   "cell_type": "code",
   "execution_count": null,
   "id": "64606802",
   "metadata": {},
   "outputs": [],
   "source": [
    "# now let's visualize the distance maps!\n",
    "# NOTE: Differences might be hard to see due to the large range of distances in the distance maps\n",
    "# we are going to have 3 plots, 20 mm, 150 mm, and 300 mm ionic strength\n",
    "mean_distance_maps = ctcf_ensemble.distance_maps(return_mean=True)\n",
    "mean_distance_maps_low_ionic_strength = ctcf_low_ionic_strength.distance_maps(return_mean=True)\n",
    "mean_distance_maps_high_ionic_strength = ctcf_high_ionic_strength.distance_maps(return_mean=True)\n",
    "# get the min and max to set the color scale\n",
    "vmin = min(np.min(mean_distance_maps_low_ionic_strength), np.min(mean_distance_maps), np.min(mean_distance_maps_high_ionic_strength))\n",
    "vmax = max(np.max(mean_distance_maps_low_ionic_strength), np.max(mean_distance_maps), np.max(mean_distance_maps_high_ionic_strength))  \n",
    "fig, axs = plt.subplots(1, 3, figsize=(15, 4), sharey=True, sharex=True)\n",
    "im1 = axs[0].imshow(mean_distance_maps_low_ionic_strength, cmap='viridis', vmin=vmin, vmax=vmax)\n",
    "axs[0].set_title('20 mM Ionic Strength')\n",
    "im2 = axs[1].imshow(mean_distance_maps, cmap='viridis', vmin=vmin, vmax=vmax)\n",
    "axs[1].set_title('150 mM Ionic Strength')\n",
    "im3 = axs[2].imshow(mean_distance_maps_high_ionic_strength, cmap='viridis', vmin=vmin, vmax=vmax)\n",
    "axs[2].set_title('300 mM Ionic Strength')\n",
    "fig.colorbar(im3, ax=axs, orientation='vertical', fraction=.15)\n",
    "plt.suptitle('Mean Distance Maps of ctcf IDR at Different Ionic Strengths')\n",
    "plt.show()"
   ]
  },
  {
   "cell_type": "code",
   "execution_count": null,
   "id": "ba3954ed",
   "metadata": {},
   "outputs": [],
   "source": [
    "# now lets plot the difference between 20mm and 150mm, and 300mm and 150mm\n",
    "fig, axs = plt.subplots(1, 2, figsize=(10, 4), sharey=True, sharex=True)\n",
    "diff_low = mean_distance_maps_low_ionic_strength - mean_distance_maps\n",
    "diff_high = mean_distance_maps_high_ionic_strength - mean_distance_maps\n",
    "# get vmin vmax using the differences\n",
    "vmax = max(np.max(diff_low), np.max(diff_high))\n",
    "vmin = min(np.min(diff_low), np.min(diff_high))\n",
    "range_value = max(abs(vmin), abs(vmax))\n",
    "\n",
    "# Make symmetric and divide by 2 to make it easier to visuzlze\n",
    "vmin = -range_value / 2\n",
    "vmax = range_value / 2 \n",
    "\n",
    "# plot\n",
    "im1 = axs[0].imshow(diff_low, cmap='bwr', vmin=vmin, vmax=vmax)\n",
    "axs[0].set_title('20 mM - 150 mM')\n",
    "im2 = axs[1].imshow(diff_high, cmap='bwr', vmin=vmin, vmax=vmax)\n",
    "axs[1].set_title('300 mM - 150 mM')\n",
    "fig.colorbar(im2, ax=axs, orientation='vertical')\n",
    "plt.suptitle('Difference in Mean Distance Maps of ctcf IDR at Different Ionic Strengths')\n",
    "plt.show()"
   ]
  },
  {
   "cell_type": "markdown",
   "id": "cf61efb2",
   "metadata": {},
   "source": [
    "## Computing values from the ensemble."
   ]
  },
  {
   "cell_type": "markdown",
   "id": "6e7b3205",
   "metadata": {},
   "source": [
    "### Distances between specified residues"
   ]
  },
  {
   "cell_type": "code",
   "execution_count": null,
   "id": "822a416f",
   "metadata": {},
   "outputs": [],
   "source": [
    "# We can compute various values from the ensemble. \n",
    "# distances between residues i and j. \n",
    "# note: this is 0-indexed, so residue 10 is the 11th residue in the sequence.\n",
    "dist_11_51 = ctcf_ensemble.rij(10, 50)\n",
    "print(f'Average distance between residues 11 and 51: {np.mean(dist_11_51):.2f} Å')"
   ]
  },
  {
   "cell_type": "markdown",
   "id": "16d0a236",
   "metadata": {},
   "source": [
    "### end-to-end distance"
   ]
  },
  {
   "cell_type": "code",
   "execution_count": null,
   "id": "0fb35cdc",
   "metadata": {},
   "outputs": [],
   "source": [
    "end_to_end_distances = ctcf_ensemble.end_to_end_distance()\n",
    "print(f'Average end-to-end distance: {np.mean(end_to_end_distances):.2f} Å')"
   ]
  },
  {
   "cell_type": "markdown",
   "id": "f8131257",
   "metadata": {},
   "source": [
    "### Computing and visualizing contact maps"
   ]
  },
  {
   "cell_type": "code",
   "execution_count": null,
   "id": "2570e2c2",
   "metadata": {},
   "outputs": [],
   "source": [
    "# set threshold\n",
    "threshold = 12.0\n",
    "# set range for map. Note: we are setting vmax low to make it easier to see low probability contacts\n",
    "vmax = 0.1\n",
    "# we can get the contact maps for a structural ensemble. Contacts are defined by a threshold value in angstroms.\n",
    "contact_maps = ctcf_ensemble.contact_map(contact_thresh=12.0, return_mean=True)\n",
    "# plot the contact map\n",
    "plt.imshow(contact_maps, cmap='viridis', vmin=0, vmax=vmax)\n",
    "# add label to colorbar\n",
    "cbar = plt.colorbar()\n",
    "cbar.set_label('Contact Probability')\n",
    "plt.xlabel('Residue Index')\n",
    "plt.ylabel('Residue Index')\n",
    "plt.title(f'Contact Map (Threshold = {threshold} Å)\\nContact Probability 0 to {vmax}')\n",
    "plt.show()"
   ]
  },
  {
   "cell_type": "markdown",
   "id": "addf9547",
   "metadata": {},
   "source": [
    "### Computing radius of gyration"
   ]
  },
  {
   "cell_type": "code",
   "execution_count": null,
   "id": "dede3014",
   "metadata": {},
   "outputs": [],
   "source": [
    "all_radius_of_gyration = ctcf_ensemble.radius_of_gyration()\n",
    "print(f'Average radius of gyration: {np.mean(all_radius_of_gyration):.2f} Å')"
   ]
  },
  {
   "cell_type": "markdown",
   "id": "3bd6ed8d",
   "metadata": {},
   "source": [
    "### Computing local radius of gyration"
   ]
  },
  {
   "cell_type": "code",
   "execution_count": null,
   "id": "855c309d",
   "metadata": {},
   "outputs": [],
   "source": [
    "# if you want to get the local radius of gyration, you can specify a start and end. \n",
    "# remember the values are 0-indexed, so start=0 and end=50 will give you the radius of gyration for residues 1-50.\n",
    "local_rg = ctcf_ensemble.local_radius_of_gyration(start=0, end=50)\n",
    "print(f'Average local radius of gyration (residues 1-50): {np.mean(local_rg):.2f} Å')\n"
   ]
  },
  {
   "cell_type": "markdown",
   "id": "6215346f",
   "metadata": {},
   "source": [
    "### Computing hydrodynamic radius"
   ]
  },
  {
   "cell_type": "code",
   "execution_count": null,
   "id": "a7668e23",
   "metadata": {},
   "outputs": [],
   "source": [
    "hydrodynamic_radii = ctcf_ensemble.hydrodynamic_radius()\n",
    "print(f'Average hydrodynamic radius: {np.mean(hydrodynamic_radii):.2f} Å')"
   ]
  },
  {
   "cell_type": "markdown",
   "id": "3f9d47f4",
   "metadata": {},
   "source": [
    "### Saving and loading ensemble objects.\n",
    "\n",
    "To save time, you can save the ensemble object and load it later instead of having to recalculate everything!"
   ]
  },
  {
   "cell_type": "code",
   "execution_count": null,
   "id": "06bb204a",
   "metadata": {},
   "outputs": [],
   "source": [
    "# to save the ensemble object, use the save function.\n",
    "ctcf_ensemble.save('ctcf_ensemble')"
   ]
  },
  {
   "cell_type": "code",
   "execution_count": null,
   "id": "d06392ee",
   "metadata": {},
   "outputs": [],
   "source": [
    "# loading the ensemble object\n",
    "loaded_ensemble = starling.load_ensemble('ctcf_ensemble.starling')\n",
    "print(loaded_ensemble)"
   ]
  },
  {
   "cell_type": "markdown",
   "id": "51f06a89",
   "metadata": {},
   "source": [
    "### Saving a trajectory"
   ]
  },
  {
   "cell_type": "code",
   "execution_count": null,
   "id": "dd51c63f",
   "metadata": {},
   "outputs": [],
   "source": [
    "# You can also save the trajectory if you'd like to view it elsewhere.\n",
    "# By default this saves a .xtc file and a .pdb file.\n",
    "ctcf_ensemble.save_trajectory('ctcf_ensemble')\n",
    "\n",
    "# note, you can save the entire thing as a PDB, but this uses much more storage.\n",
    "# to do so, uncomment the line below.\n",
    "#ctcf_ensemble.save_trajectory('ctcf_ensemble', pdb_trajectory=True)"
   ]
  },
  {
   "cell_type": "code",
   "execution_count": null,
   "id": "2db5c5ee",
   "metadata": {},
   "outputs": [],
   "source": []
  }
 ],
 "metadata": {
  "kernelspec": {
   "display_name": "test_goose_py311",
   "language": "python",
   "name": "python3"
  },
  "language_info": {
   "codemirror_mode": {
    "name": "ipython",
    "version": 3
   },
   "file_extension": ".py",
   "mimetype": "text/x-python",
   "name": "python",
   "nbconvert_exporter": "python",
   "pygments_lexer": "ipython3",
   "version": "3.11.13"
  }
 },
 "nbformat": 4,
 "nbformat_minor": 5
}
