{
 "cells": [
  {
   "cell_type": "markdown",
   "id": "226ee4cb",
   "metadata": {},
   "source": [
    "# Constraining ensembles in STARLING\n",
    "\n",
    "This notebook will cover how to constrain ensembles using various constraints in STARLING.\n",
    "**Before starting**, install STARLING locally. See https://github.com/idptools/starling/ for more information\n",
    "\n",
    "- This notebook will cover the following:\n",
    "    1. Constraining by distance between two specific residues\n",
    "    2. Constraining by a target radius of gyration or end-to-end distance\n",
    "    3. Adding helicity constraints\n",
    "\n",
    "***NOTE***: Ensemble generation with constraints is much slower than without!\n",
    "\n",
    "***NOTE***: STARLING can only generate ensembles of sequences up to 380 residues!"
   ]
  },
  {
   "cell_type": "code",
   "execution_count": null,
   "id": "99c4cec1",
   "metadata": {},
   "outputs": [],
   "source": [
    "import numpy as np\n",
    "import matplotlib.pyplot as plt\n",
    "import starling\n",
    "from starling.inference.constraints import HelicityConstraint, DistanceConstraint, RgConstraint, ReConstraint\n",
    "\n",
    "#NOTE: if this is the first time you are running STARLING, it will download the model for you!\n",
    "# this can take a few minutes depending on your internet speed."
   ]
  },
  {
   "cell_type": "code",
   "execution_count": null,
   "id": "238d5989",
   "metadata": {},
   "outputs": [],
   "source": [
    "# first we are going to set our target sequence. \n",
    "# we are going to analyze the N-terminal IDR of Homo sapiens CTCF, Uniprot ID 49711\n",
    "ctcf='MEGDAVEAIVEESETFIKGKERKTYQRRREGGQEEDACHLPQNQTDGGEVVQDVNSSVQMVMMEQLDPTLLQMKTEVMEGTVAPEAEAAVDDTQIITLQVVNMEEQPINIGELQLVQVPVPVTVPVATTSVEELQGAYENEVSKEGLAESEPMICHTLPLPEGFQVVKVGANGEVETLEQGELPPQEDPSWQKDPDYQPPAKKTKKTKKSKLRYTEEGKDVDVSVYDFEEEQQEGLLSEVNAEKVVGNMKPPKPTKIKKKGVKKTFQCELCSYTCPRRSNLDRHMKSHTDERPHKCHLCGRAFRTVTLLRNHLNTHTGTRPHKCPDCDMAFVTSGELVRHRRYKHTHEKPFKCSMCDYASVEVSKLKRHIRSHTGERPFQCSLCSYASRDTYKLKRHMRTHSGEKPYECYICHARFTQSGTMKMHILQKHTENVAKFHCPHCDTVIARKSDLGVHLRKQHSYIEQGKKCRYCDAVFHERYALIQHQKSHKNEKRFKCDQCDYACRQERHMIMHKRTHTGEKPYACSHCDKTFRQKQLLDMHFKRYHDPNFVPAAFVCSKCGKTFTRRNTMARHADNCAGPDGVEGENGGETKKSKRGRKRKMRSKKEDSSDSENAEPDLDDNEDEEEPAVEIEPEPEPQPVTPAPPPAKKRRGRPPGRTNQPKQNQPTAIIQVEDQNTGAIENIIVEVKKEPDAEPAEGEEEEAQPAATDAPNGDLTPEMILSMMDR'\n",
    "# we used metapredict V3 to define the region that is the IDR of CTCF\n",
    "ctcf_idr = ctcf[:262]"
   ]
  },
  {
   "cell_type": "code",
   "execution_count": null,
   "id": "b3937e72",
   "metadata": {},
   "outputs": [],
   "source": [
    "# now we are going to generate the ensemble with no constraints\n",
    "# NOTE: we are going to reduce the number of steps and conformations for this demo to speed things up.\n",
    "# however, you should use the default values for real applications.\n",
    "# default conformations is 400 and default steps is 30.\n",
    "no_constraints = starling.generate(ctcf_idr, return_single_ensemble=True,\n",
    "                                   conformations=100, steps=10)"
   ]
  },
  {
   "cell_type": "markdown",
   "id": "cb5e749b",
   "metadata": {},
   "source": [
    "## Constraining by residue distance\n",
    "You can choose two residues and a target distance between them as a constraint."
   ]
  },
  {
   "cell_type": "code",
   "execution_count": null,
   "id": "cc899a0b",
   "metadata": {},
   "outputs": [],
   "source": [
    "# set the constraint\n",
    "# NOTE, target is a distance in angstroms.\n",
    "constraint = DistanceConstraint(resid1=10, resid2=100, target=30)                                "
   ]
  },
  {
   "cell_type": "code",
   "execution_count": null,
   "id": "a3f4dc3c",
   "metadata": {},
   "outputs": [],
   "source": [
    "# now we can generate an ensemble with the DistanceConstraint. \n",
    "dist_constraints = starling.generate(ctcf_idr, constraint=constraint, return_single_ensemble=True,\n",
    "                                     conformations=100, steps=10)"
   ]
  },
  {
   "cell_type": "code",
   "execution_count": null,
   "id": "0fe089ef",
   "metadata": {},
   "outputs": [],
   "source": [
    "# now lets calculate the average distance of residues 10 and 100 in both ensembles\n",
    "# NOTE: the first time we run this, it will calculate the ensemble distances and store them in the object.\n",
    "# subsequent calls will be much faster.\n",
    "# remember, this is 0-indexed, so index 10 is residue 11 in nd index 100 is residue 101.\n",
    "unconstrained_distance = no_constraints.rij(10, 100, return_mean=False)\n",
    "constrained_distance = dist_constraints.rij(10, 100, return_mean=False)\n",
    "\n",
    "# now we are going to plot the histogram of the distances and then mark the mean and the target\n",
    "plt.figure(figsize=(8,5))\n",
    "plt.hist(unconstrained_distance, bins=10, alpha=0.5, label='Unconstrained', color='blue', density=True, edgecolor='black')\n",
    "plt.hist(constrained_distance, bins=10, alpha=0.5, label='Constrained', color='orange', density=True, edgecolor='black')\n",
    "plt.axvline(np.mean(unconstrained_distance), color='blue', linestyle='dashed', linewidth=1)\n",
    "plt.axvline(np.mean(constrained_distance), color='orange', linestyle='dashed', linewidth=1)\n",
    "plt.axvline(30, color='red', linestyle='dashed', linewidth=1, label='Target Distance')\n",
    "plt.xlabel('Distance (Å)')\n",
    "plt.ylabel('Density')\n",
    "plt.title('Distance between Residues 11 and 101')\n",
    "plt.legend()\n",
    "plt.show()"
   ]
  },
  {
   "cell_type": "markdown",
   "id": "1c58ea5b",
   "metadata": {},
   "source": [
    "## Constraining by target Radius of Gyration (Rg) or end-to-end distance (Re)\n",
    "\n",
    "In this section we will also modify a variable called ``force_constant`` when generating ensembles\n",
    "with constrained Rg. Lower values will be less constrained whereas higher values are more constrained. \n",
    " \n",
    "The default value is 2.0, and you can modify this value for any of the constraints!"
   ]
  },
  {
   "cell_type": "code",
   "execution_count": null,
   "id": "48842e51",
   "metadata": {},
   "outputs": [],
   "source": [
    "# set the constraint\n",
    "# NOTE, target is a distance in angstroms.\n",
    "# NOTE: for Rg we are going to modify the force_constant to 0.1 to make the constraint softer.\n",
    "# this is something you can adjust depending on how the distribution of conformations looks for you. \n",
    "rg_constraint = RgConstraint(target=40, force_constant=0.1)\n",
    "re_constraint = ReConstraint(target=100)"
   ]
  },
  {
   "cell_type": "code",
   "execution_count": null,
   "id": "5aae6381",
   "metadata": {},
   "outputs": [],
   "source": [
    "re_constraint_ensemble = starling.generate(ctcf_idr, constraint=re_constraint, return_single_ensemble=True,\n",
    "                                         conformations=100, steps=10)\n",
    "rg_constraint_ensemble = starling.generate(ctcf_idr, constraint=rg_constraint, return_single_ensemble=True,\n",
    "                                         conformations=100, steps=10)"
   ]
  },
  {
   "cell_type": "code",
   "execution_count": null,
   "id": "4550baae",
   "metadata": {},
   "outputs": [],
   "source": [
    "# NOTE when we plot this you should notice that the Rg ensemble isn't as close to our target \n",
    "# as the Re ensemble. This is because we set a lower force constant to make the constraint softer. \n",
    "# You can adjust this value to get a distribution that works for you.\n",
    "\n",
    "# now let's plot the Rg and Re values in two plots similar to above\n",
    "# first we need to get the Rg and Re values for each ensemble\n",
    "no_constraints_rg = no_constraints.radius_of_gyration(return_mean=False)\n",
    "rg_constrained_rg = rg_constraint_ensemble.radius_of_gyration(return_mean=False)\n",
    "no_constraints_re = no_constraints.end_to_end_distance(return_mean=False)\n",
    "re_constrained_re = re_constraint_ensemble.end_to_end_distance(return_mean=False)\n",
    "\n",
    "# now we can plot the histograms\n",
    "fig, (ax1, ax2) = plt.subplots(1, 2, figsize=(15,5))\n",
    "# Rg plot\n",
    "ax1.hist(no_constraints_rg, bins=10, alpha=0.5, label='Unconstrained', color='blue', density=True, edgecolor='black')\n",
    "ax1.hist(rg_constrained_rg, bins=10, alpha=0.5, label='Rg Constrained', color='orange', density=True, edgecolor='black')\n",
    "ax1.axvline(np.mean(no_constraints_rg), color='blue', linestyle='dashed', linewidth=1)\n",
    "ax1.axvline(np.mean(rg_constrained_rg), color='orange', linestyle='dashed', linewidth=1)\n",
    "ax1.axvline(40, color='red', linestyle='dashed', linewidth=1, label='Target Rg')\n",
    "ax1.set_xlabel('Radius of Gyration (Å)')\n",
    "ax1.set_ylabel('Density')\n",
    "ax1.set_title('Radius of Gyration (Rg)')\n",
    "ax1.legend()\n",
    "# Re plot\n",
    "ax2.hist(no_constraints_re, bins=10, alpha=0.5, label='Unconstrained', color='blue', density=True, edgecolor='black')\n",
    "ax2.hist(re_constrained_re, bins=10, alpha=0.5, label='Re Constrained', color='orange', density=True, edgecolor='black')\n",
    "ax2.axvline(np.mean(no_constraints_re), color='blue', linestyle='dashed', linewidth=1)\n",
    "ax2.axvline(np.mean(re_constrained_re), color='orange', linestyle='dashed', linewidth=1)\n",
    "ax2.axvline(100, color='red', linestyle='dashed', linewidth=1, label='Target Re')\n",
    "ax2.set_xlabel('End-to-End Distance (Å)')\n",
    "ax2.set_ylabel('Density')\n",
    "ax2.set_title('End-to-End Distance (Re)')\n",
    "ax2.legend()\n",
    "plt.show()"
   ]
  },
  {
   "cell_type": "markdown",
   "id": "ca98a06e",
   "metadata": {},
   "source": [
    "## Helicity Constraint"
   ]
  },
  {
   "cell_type": "code",
   "execution_count": null,
   "id": "d977544d",
   "metadata": {},
   "outputs": [],
   "source": [
    "# for helicity constraints, we are going to constrain residues 151 to 161\n",
    "helix_constraint = HelicityConstraint(resid_start=150, resid_end=160)\n",
    "helix_constrained_ensemble = starling.generate(ctcf_idr, constraint=helix_constraint, return_single_ensemble=True,\n",
    "                                              conformations=100, steps=10)"
   ]
  },
  {
   "cell_type": "code",
   "execution_count": null,
   "id": "310c5d5f",
   "metadata": {},
   "outputs": [],
   "source": [
    "# now we are going to plot the distances between residues 151 and 161 in both ensembles\n",
    "unconstrained_helix_distance = no_constraints.rij(150, 160, return_mean=False)\n",
    "constrained_helix_distance = helix_constrained_ensemble.rij(150, 160, return_mean=False)\n",
    "plt.figure(figsize=(8,5))\n",
    "plt.hist(unconstrained_helix_distance, bins=10, alpha=0.5, label='Unconstrained', color='blue', density=True, edgecolor='black')\n",
    "plt.hist(constrained_helix_distance, bins=10, alpha=0.5, label='Helix Constrained', color='orange', density=True, edgecolor='black')\n",
    "plt.axvline(np.mean(unconstrained_helix_distance), color='blue', linestyle='dashed', linewidth=1)\n",
    "plt.axvline(np.mean(constrained_helix_distance), color='orange', linestyle='dashed', linewidth=1)\n",
    "plt.xlabel('Distance (Å)')\n",
    "plt.ylabel('Density')\n",
    "plt.title('Distance between Residues 151 and 161')\n",
    "plt.legend()\n",
    "plt.show()"
   ]
  },
  {
   "cell_type": "code",
   "execution_count": null,
   "id": "810ff868",
   "metadata": {},
   "outputs": [],
   "source": []
  }
 ],
 "metadata": {
  "kernelspec": {
   "display_name": "test_goose_py311",
   "language": "python",
   "name": "python3"
  },
  "language_info": {
   "codemirror_mode": {
    "name": "ipython",
    "version": 3
   },
   "file_extension": ".py",
   "mimetype": "text/x-python",
   "name": "python",
   "nbconvert_exporter": "python",
   "pygments_lexer": "ipython3",
   "version": "3.11.13"
  }
 },
 "nbformat": 4,
 "nbformat_minor": 5
}
